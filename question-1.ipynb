{
 "cells": [
  {
   "cell_type": "code",
   "execution_count": 17,
   "metadata": {},
   "outputs": [
    {
     "name": "stdout",
     "output_type": "stream",
     "text": [
      "16\n",
      "            RA        DEC  Cluster  Astrosat_Flag Messier_Name\n",
      "0   279.106183 -23.905930      1.0            1.0   messier 22\n",
      "1   279.093075 -23.909687      1.0            1.0   messier 22\n",
      "3   279.096235 -23.902155      1.0            1.0   messier 22\n",
      "5   279.106220 -23.903225      1.0            1.0   messier 22\n",
      "7   279.096701 -23.909327      1.0            1.0   messier 22\n",
      "10  279.096388 -23.901318      1.0            1.0   messier 22\n",
      "12  279.097109 -23.903232      1.0            1.0   messier 22\n",
      "16  279.103280 -23.907507      1.0            1.0   messier 22\n",
      "19  279.097730 -23.906234      1.0            1.0   messier 22\n",
      "23  279.095832 -23.908114      1.0            1.0   messier 22\n",
      "24  279.103460 -23.902953      1.0            1.0   messier 22\n",
      "31  279.101534 -23.909891      1.0            1.0   messier 22\n",
      "36  279.098356 -23.904618      1.0            1.0   messier 22\n",
      "41  279.091233 -23.905273      1.0            1.0   messier 22\n",
      "45  279.103748 -23.904481      1.0            1.0   messier 22\n",
      "47  279.092739 -23.903339      1.0            1.0   messier 22\n"
     ]
    },
    {
     "name": "stderr",
     "output_type": "stream",
     "text": [
      "<ipython-input-17-fb3dc521c333>:23: SettingWithCopyWarning: \n",
      "A value is trying to be set on a copy of a slice from a DataFrame\n",
      "\n",
      "See the caveats in the documentation: https://pandas.pydata.org/pandas-docs/stable/user_guide/indexing.html#returning-a-view-versus-a-copy\n",
      "  df1['Astrosat_Flag'][id1] = 1\n",
      "<ipython-input-17-fb3dc521c333>:24: SettingWithCopyWarning: \n",
      "A value is trying to be set on a copy of a slice from a DataFrame\n",
      "\n",
      "See the caveats in the documentation: https://pandas.pydata.org/pandas-docs/stable/user_guide/indexing.html#returning-a-view-versus-a-copy\n",
      "  df1['Messier_Name'][id1] = df2['Messier_Name'][closest_id2]\n"
     ]
    }
   ],
   "source": [
    "import numpy as np\n",
    "import pandas as pd\n",
    "import matplotlib.pyplot as plt\n",
    "from astropy import units as u\n",
    "from astropy.coordinates import SkyCoord\n",
    "df1=pd.read_csv('https://raw.githubusercontent.com/astroclubiitk/computational-astrophysics/main/Week-3/Assignment/Clusters.csv')\n",
    "df2=pd.read_csv('Messiers.csv')\n",
    "ra1 = np.asarray(df1['RA'])\n",
    "dec1 = np.asarray(df1['DEC'])\n",
    "ra2 = np.asarray(df2['ra'])\n",
    "dec2 = np.asarray(df2['dec'])\n",
    "c1 = SkyCoord(ra=ra1*u.degree, dec=dec1*u.degree, frame='icrs')\n",
    "c2 = SkyCoord(ra=ra2*u.degree, dec=dec2*u.degree, frame='icrs')\n",
    "df1['Astrosat_Flag'] = np.zeros(len(df1))\n",
    "df1['Messier_Name'] = np.zeros(len(df1))\n",
    "idx,d2d,d3d = (c1).match_to_catalog_sky(c2)\n",
    "matches = []\n",
    "max_radius = 30./3600 #N\n",
    "for id1, (closest_id2, dist) in enumerate(zip(idx, d2d)): #iterate over every element in idx\n",
    "    closest_dist = dist.value\n",
    "    if closest_dist < max_radius: #if closest_distance is less than max threshold for errors they must be the same object\n",
    "        matches.append([id1, closest_id2, closest_dist])\n",
    "        df1['Astrosat_Flag'][id1] = 1\n",
    "        df1['Messier_Name'][id1] = df2['Messier_Name'][closest_id2]\n",
    "print(len(matches)) #number of common sources\n",
    "print(df1[df1['Astrosat_Flag']==1])"
   ]
  },
  {
   "cell_type": "code",
   "execution_count": null,
   "metadata": {},
   "outputs": [],
   "source": []
  }
 ],
 "metadata": {
  "kernelspec": {
   "display_name": "Python 3",
   "language": "python",
   "name": "python3"
  },
  "language_info": {
   "codemirror_mode": {
    "name": "ipython",
    "version": 3
   },
   "file_extension": ".py",
   "mimetype": "text/x-python",
   "name": "python",
   "nbconvert_exporter": "python",
   "pygments_lexer": "ipython3",
   "version": "3.8.5"
  }
 },
 "nbformat": 4,
 "nbformat_minor": 4
}
